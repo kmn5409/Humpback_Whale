{
 "cells": [
  {
   "cell_type": "code",
   "execution_count": 1,
   "metadata": {},
   "outputs": [
    {
     "name": "stderr",
     "output_type": "stream",
     "text": [
      "Using TensorFlow backend.\n"
     ]
    }
   ],
   "source": [
    "from sklearn.svm import SVC\n",
    "import numpy as np\n",
    "import pandas as pd\n",
    "import os\n",
    "import cv2\n",
    "import matplotlib.pyplot as plt\n",
    "import warnings\n",
    "warnings.filterwarnings('ignore')\n",
    "from sklearn.model_selection import train_test_split\n",
    "\n",
    "\n",
    "from keras.preprocessing import image\n",
    "from keras.preprocessing.image import ImageDataGenerator\n",
    "from keras.callbacks import ReduceLROnPlateau\n",
    "from keras.models import Sequential, Model\n",
    "from keras.layers import Dense, Activation, Flatten, Dropout, concatenate, Input, Conv2D, MaxPooling2D\n",
    "from keras.optimizers import Adam, Adadelta\n",
    "from keras.layers.advanced_activations import LeakyReLU\n",
    "from keras.utils.np_utils import to_categorical\n",
    "from sklearn.pipeline import make_pipeline\n",
    "from sklearn.preprocessing import StandardScaler"
   ]
  },
  {
   "cell_type": "code",
   "execution_count": 2,
   "metadata": {
    "collapsed": true
   },
   "outputs": [],
   "source": [
    "train_dir = 'train'\n",
    "SPEC1 = pd.read_csv('train.csv')\n",
    "train = SPEC1.copy()"
   ]
  },
  {
   "cell_type": "code",
   "execution_count": 3,
   "metadata": {},
   "outputs": [
    {
     "name": "stdout",
     "output_type": "stream",
     "text": [
      "(9850, 2)\n",
      "9850\n",
      "9850\n"
     ]
    }
   ],
   "source": [
    "print(SPEC1.shape)\n",
    "SPECIES = (SPEC1['Id'].unique().tolist())\n",
    "print(len(SPEC1))\n",
    "print(len(SPEC1['Image'].unique().tolist()))"
   ]
  },
  {
   "cell_type": "code",
   "execution_count": 4,
   "metadata": {},
   "outputs": [
    {
     "name": "stdout",
     "output_type": "stream",
     "text": [
      "['w_e15442c', 'w_1287fbc', 'w_da2efe0', 'w_19e5482', 'w_f22f3e3']\n"
     ]
    }
   ],
   "source": [
    "print(SPECIES[:5])"
   ]
  },
  {
   "cell_type": "code",
   "execution_count": 5,
   "metadata": {
    "collapsed": true
   },
   "outputs": [],
   "source": [
    "#for species in SPECIES:\n",
    "#    print('{} {} images'.format\\\n",
    "#          (species, len(os.listdir(os.path.join(train_dir, species)))))"
   ]
  },
  {
   "cell_type": "code",
   "execution_count": 5,
   "metadata": {},
   "outputs": [
    {
     "name": "stdout",
     "output_type": "stream",
     "text": [
      "Training Data:  (9850, 2)\n",
      "                Image         Id species_num\n",
      "0  train/00022e1a.jpg  w_e15442c        None\n",
      "1  train/000466c4.jpg  w_1287fbc        None\n",
      "2  train/00087b01.jpg  w_da2efe0        None\n",
      "3  train/001296d5.jpg  w_19e5482        None\n",
      "4  train/0014cfdf.jpg  w_f22f3e3        None\n"
     ]
    }
   ],
   "source": [
    "for i in range(len(train)):\n",
    "    #train.loc['Image',i] = train[i] \n",
    "    train.loc[i,'Image'] = 'train/' + train.loc[i,'Image']\n",
    "        \n",
    "#train = pd.DataFrame(train, columns=['file', 'species_num', 'species'])\n",
    "\n",
    "print('Training Data: ',train.shape)\n",
    "train['species_num'] = None\n",
    "print(train.head())\n",
    "for i in range(len(train)):\n",
    "    train.loc[i,'species_num'] = SPECIES.index(train.loc[i,'Id'])"
   ]
  },
  {
   "cell_type": "code",
   "execution_count": 6,
   "metadata": {
    "collapsed": true
   },
   "outputs": [],
   "source": [
    "def create_mask_for_plant(image):\n",
    "    image_hsv = cv2.cvtColor(image, cv2.COLOR_BGR2HSV)\n",
    "\n",
    "    sensitivity = 35\n",
    "    lower_hsv = np.array([60 - sensitivity, 100, 50])\n",
    "    upper_hsv = np.array([60 + sensitivity, 99, 99])\n",
    "\n",
    "    mask = cv2.inRange(image_hsv, lower_hsv, upper_hsv)\n",
    "    kernel = cv2.getStructuringElement(cv2.MORPH_ELLIPSE, (11,11))\n",
    "    mask = cv2.morphologyEx(mask, cv2.MORPH_CLOSE, kernel)\n",
    "    \n",
    "    return mask\n",
    "\n",
    "def segment_plant(image):\n",
    "    mask = create_mask_for_plant(image)\n",
    "    output = cv2.bitwise_and(image, image, mask = mask)\n",
    "    return output\n",
    "\n",
    "def sharpen_image(image):\n",
    "    image_blurred = cv2.GaussianBlur(image, (0, 0), 3)\n",
    "    image_sharp = cv2.addWeighted(image, 1.5, image_blurred, -0.5, 0)\n",
    "    return image_sharp"
   ]
  },
  {
   "cell_type": "code",
   "execution_count": 7,
   "metadata": {},
   "outputs": [
    {
     "name": "stdout",
     "output_type": "stream",
     "text": [
      "CPU times: user 1min 3s, sys: 10.3 s, total: 1min 13s\n",
      "Wall time: 36.6 s\n"
     ]
    }
   ],
   "source": [
    "%%time\n",
    "\n",
    "x_train = []\n",
    "\n",
    "for i in range(len(train)):\n",
    "    img = cv2.imread(train['Image'][i])\n",
    "    img = cv2.resize(img,dsize=(100,100))\n",
    "    img_stack = segment_plant(img)\n",
    "    img_stack = sharpen_image(img_stack)\n",
    "    img_stack = cv2.cvtColor( img_stack, cv2.COLOR_RGB2GRAY )\n",
    "    img_stack = np.reshape(img_stack,(100,100,1))\n",
    "    x_train.append(np.concatenate((np.array(img),np.array(img_stack)),axis=2))\n",
    "\n",
    "x_train = np.array(x_train)"
   ]
  },
  {
   "cell_type": "code",
   "execution_count": 8,
   "metadata": {},
   "outputs": [
    {
     "data": {
      "image/png": "[encoded data removed]",
      "text/plain": [
       "<matplotlib.figure.Figure at 0x7f61f8573860>"
      ]
     },
     "metadata": {},
     "output_type": "display_data"
    },
    {
     "data": {
      "image/png": "[encoded data removed]",
      "text/plain": [
       "<matplotlib.figure.Figure at 0x7f61ac781780>"
      ]
     },
     "metadata": {},
     "output_type": "display_data"
    },
    {
     "data": {
      "image/png": "[encoded data removed]",
      "text/plain": [
       "<matplotlib.figure.Figure at 0x7f61abf07d68>"
      ]
     },
     "metadata": {},
     "output_type": "display_data"
    }
   ],
   "source": [
    "for i in [1]:\n",
    "    img = cv2.imread(train['Image'][i])\n",
    "    img = cv2.resize(img,dsize=(100,100))\n",
    "    img_stack = segment_plant(img)\n",
    "    img_stack = sharpen_image(img_stack)\n",
    "    img_stack = cv2.cvtColor( img_stack, cv2.COLOR_RGB2GRAY )\n",
    "    img_stack = np.reshape(img_stack,(100,100,1))\n",
    "# Input image\n",
    "Input_image = cv2.imread(train['Image'][i])\n",
    "\n",
    "plt.imshow(Input_image)\n",
    "plt.title('Input image, Shape: '+str(Input_image.shape))\n",
    "plt.show()\n",
    "\n",
    "# Resized image\n",
    "plt.imshow(img)\n",
    "plt.title('Resized image, Shape: '+str(img.shape))\n",
    "plt.show()\n",
    "        \n",
    "# Processed image to Stack\n",
    "plt.imshow(np.reshape(img_stack,(100,100)))\n",
    "plt.title('Processed image, Shape: '+str(img_stack.shape))\n",
    "plt.show()"
   ]
  },
  {
   "cell_type": "code",
   "execution_count": 9,
   "metadata": {
    "collapsed": true
   },
   "outputs": [],
   "source": [
    "labels = train['species_num']\n",
    "labels = to_categorical(labels, num_classes = len(SPECIES))"
   ]
  },
  {
   "cell_type": "code",
   "execution_count": 10,
   "metadata": {},
   "outputs": [
    {
     "name": "stdout",
     "output_type": "stream",
     "text": [
      "[[1. 0. 0. ... 0. 0. 0.]\n",
      " [0. 1. 0. ... 0. 0. 0.]\n",
      " [0. 0. 1. ... 0. 0. 0.]\n",
      " ...\n",
      " [0. 0. 0. ... 0. 0. 0.]\n",
      " [0. 0. 0. ... 0. 0. 0.]\n",
      " [0. 0. 0. ... 0. 0. 1.]]\n",
      "9850\n"
     ]
    }
   ],
   "source": [
    "print(labels)\n",
    "print(len(x_train))"
   ]
  },
  {
   "cell_type": "code",
   "execution_count": 11,
   "metadata": {
    "collapsed": true
   },
   "outputs": [],
   "source": [
    "x_train, x_val, y_train, y_val = train_test_split(x_train, \\\n",
    "                        labels, test_size = 0.1, random_state=10)"
   ]
  },
  {
   "cell_type": "code",
   "execution_count": 12,
   "metadata": {},
   "outputs": [
    {
     "name": "stdout",
     "output_type": "stream",
     "text": [
      "Input Shape is : (100, 100, 4)\n"
     ]
    }
   ],
   "source": [
    "input_shape = x_train[1].shape\n",
    "print('Input Shape is :', input_shape)"
   ]
  },
  {
   "cell_type": "code",
   "execution_count": 13,
   "metadata": {},
   "outputs": [
    {
     "name": "stdout",
     "output_type": "stream",
     "text": [
      "__________________________________________________________________________________________________\n",
      "Layer (type)                    Output Shape         Param #     Connected to                     \n",
      "==================================================================================================\n",
      "input_1 (InputLayer)            (None, 100, 100, 4)  0                                            \n",
      "__________________________________________________________________________________________________\n",
      "conv2d_1 (Conv2D)               (None, 48, 48, 16)   1616        input_1[0][0]                    \n",
      "__________________________________________________________________________________________________\n",
      "leaky_re_lu_1 (LeakyReLU)       (None, 48, 48, 16)   0           conv2d_1[0][0]                   \n",
      "__________________________________________________________________________________________________\n",
      "conv2d_2 (Conv2D)               (None, 48, 48, 16)   2320        leaky_re_lu_1[0][0]              \n",
      "__________________________________________________________________________________________________\n",
      "conv2d_3 (Conv2D)               (None, 48, 48, 16)   6416        leaky_re_lu_1[0][0]              \n",
      "__________________________________________________________________________________________________\n",
      "leaky_re_lu_2 (LeakyReLU)       (None, 48, 48, 16)   0           conv2d_2[0][0]                   \n",
      "__________________________________________________________________________________________________\n",
      "leaky_re_lu_3 (LeakyReLU)       (None, 48, 48, 16)   0           conv2d_3[0][0]                   \n",
      "__________________________________________________________________________________________________\n",
      "concatenate_1 (Concatenate)     (None, 48, 48, 32)   0           leaky_re_lu_2[0][0]              \n",
      "                                                                 leaky_re_lu_3[0][0]              \n",
      "__________________________________________________________________________________________________\n",
      "conv2d_4 (Conv2D)               (None, 22, 22, 32)   25632       concatenate_1[0][0]              \n",
      "__________________________________________________________________________________________________\n",
      "leaky_re_lu_4 (LeakyReLU)       (None, 22, 22, 32)   0           conv2d_4[0][0]                   \n",
      "__________________________________________________________________________________________________\n",
      "conv2d_5 (Conv2D)               (None, 22, 22, 32)   9248        leaky_re_lu_4[0][0]              \n",
      "__________________________________________________________________________________________________\n",
      "conv2d_6 (Conv2D)               (None, 22, 22, 32)   25632       leaky_re_lu_4[0][0]              \n",
      "__________________________________________________________________________________________________\n",
      "leaky_re_lu_5 (LeakyReLU)       (None, 22, 22, 32)   0           conv2d_5[0][0]                   \n",
      "__________________________________________________________________________________________________\n",
      "leaky_re_lu_6 (LeakyReLU)       (None, 22, 22, 32)   0           conv2d_6[0][0]                   \n",
      "__________________________________________________________________________________________________\n",
      "concatenate_2 (Concatenate)     (None, 22, 22, 64)   0           leaky_re_lu_5[0][0]              \n",
      "                                                                 leaky_re_lu_6[0][0]              \n",
      "__________________________________________________________________________________________________\n",
      "conv2d_7 (Conv2D)               (None, 22, 22, 32)   2080        concatenate_2[0][0]              \n",
      "__________________________________________________________________________________________________\n",
      "leaky_re_lu_7 (LeakyReLU)       (None, 22, 22, 32)   0           conv2d_7[0][0]                   \n",
      "__________________________________________________________________________________________________\n",
      "conv2d_8 (Conv2D)               (None, 22, 22, 32)   1056        leaky_re_lu_7[0][0]              \n",
      "__________________________________________________________________________________________________\n",
      "conv2d_9 (Conv2D)               (None, 22, 22, 32)   9248        leaky_re_lu_7[0][0]              \n",
      "__________________________________________________________________________________________________\n",
      "leaky_re_lu_8 (LeakyReLU)       (None, 22, 22, 32)   0           conv2d_8[0][0]                   \n",
      "__________________________________________________________________________________________________\n",
      "leaky_re_lu_9 (LeakyReLU)       (None, 22, 22, 32)   0           conv2d_9[0][0]                   \n",
      "__________________________________________________________________________________________________\n",
      "concatenate_3 (Concatenate)     (None, 22, 22, 64)   0           leaky_re_lu_8[0][0]              \n",
      "                                                                 leaky_re_lu_9[0][0]              \n",
      "__________________________________________________________________________________________________\n",
      "conv2d_10 (Conv2D)              (None, 9, 9, 64)     102464      concatenate_3[0][0]              \n",
      "__________________________________________________________________________________________________\n",
      "leaky_re_lu_10 (LeakyReLU)      (None, 9, 9, 64)     0           conv2d_10[0][0]                  \n",
      "__________________________________________________________________________________________________\n",
      "conv2d_11 (Conv2D)              (None, 9, 9, 64)     36928       leaky_re_lu_10[0][0]             \n",
      "__________________________________________________________________________________________________\n",
      "conv2d_12 (Conv2D)              (None, 9, 9, 64)     102464      leaky_re_lu_10[0][0]             \n",
      "__________________________________________________________________________________________________\n",
      "leaky_re_lu_11 (LeakyReLU)      (None, 9, 9, 64)     0           conv2d_11[0][0]                  \n",
      "__________________________________________________________________________________________________\n",
      "leaky_re_lu_12 (LeakyReLU)      (None, 9, 9, 64)     0           conv2d_12[0][0]                  \n",
      "__________________________________________________________________________________________________\n",
      "concatenate_4 (Concatenate)     (None, 9, 9, 128)    0           leaky_re_lu_11[0][0]             \n",
      "                                                                 leaky_re_lu_12[0][0]             \n",
      "__________________________________________________________________________________________________\n",
      "conv2d_13 (Conv2D)              (None, 9, 9, 64)     8256        concatenate_4[0][0]              \n",
      "__________________________________________________________________________________________________\n",
      "leaky_re_lu_13 (LeakyReLU)      (None, 9, 9, 64)     0           conv2d_13[0][0]                  \n",
      "__________________________________________________________________________________________________\n",
      "conv2d_14 (Conv2D)              (None, 9, 9, 64)     4160        leaky_re_lu_13[0][0]             \n",
      "__________________________________________________________________________________________________\n",
      "conv2d_15 (Conv2D)              (None, 9, 9, 64)     36928       leaky_re_lu_13[0][0]             \n",
      "__________________________________________________________________________________________________\n",
      "leaky_re_lu_14 (LeakyReLU)      (None, 9, 9, 64)     0           conv2d_14[0][0]                  \n",
      "__________________________________________________________________________________________________\n",
      "leaky_re_lu_15 (LeakyReLU)      (None, 9, 9, 64)     0           conv2d_15[0][0]                  \n",
      "__________________________________________________________________________________________________\n",
      "concatenate_5 (Concatenate)     (None, 9, 9, 128)    0           leaky_re_lu_14[0][0]             \n",
      "                                                                 leaky_re_lu_15[0][0]             \n",
      "__________________________________________________________________________________________________\n",
      "conv2d_16 (Conv2D)              (None, 3, 3, 64)     204864      concatenate_5[0][0]              \n",
      "__________________________________________________________________________________________________\n",
      "leaky_re_lu_16 (LeakyReLU)      (None, 3, 3, 64)     0           conv2d_16[0][0]                  \n",
      "__________________________________________________________________________________________________\n",
      "conv2d_17 (Conv2D)              (None, 3, 3, 64)     36928       leaky_re_lu_16[0][0]             \n",
      "__________________________________________________________________________________________________\n",
      "conv2d_18 (Conv2D)              (None, 3, 3, 64)     102464      leaky_re_lu_16[0][0]             \n",
      "__________________________________________________________________________________________________\n",
      "leaky_re_lu_17 (LeakyReLU)      (None, 3, 3, 64)     0           conv2d_17[0][0]                  \n",
      "__________________________________________________________________________________________________\n",
      "leaky_re_lu_18 (LeakyReLU)      (None, 3, 3, 64)     0           conv2d_18[0][0]                  \n",
      "__________________________________________________________________________________________________\n",
      "concatenate_6 (Concatenate)     (None, 3, 3, 128)    0           leaky_re_lu_17[0][0]             \n",
      "                                                                 leaky_re_lu_18[0][0]             \n",
      "__________________________________________________________________________________________________\n",
      "conv2d_19 (Conv2D)              (None, 3, 3, 64)     8256        concatenate_6[0][0]              \n",
      "__________________________________________________________________________________________________\n",
      "leaky_re_lu_19 (LeakyReLU)      (None, 3, 3, 64)     0           conv2d_19[0][0]                  \n",
      "__________________________________________________________________________________________________\n",
      "conv2d_20 (Conv2D)              (None, 3, 3, 64)     4160        leaky_re_lu_19[0][0]             \n",
      "__________________________________________________________________________________________________\n",
      "conv2d_21 (Conv2D)              (None, 3, 3, 64)     36928       leaky_re_lu_19[0][0]             \n",
      "__________________________________________________________________________________________________\n",
      "leaky_re_lu_20 (LeakyReLU)      (None, 3, 3, 64)     0           conv2d_20[0][0]                  \n",
      "__________________________________________________________________________________________________\n",
      "leaky_re_lu_21 (LeakyReLU)      (None, 3, 3, 64)     0           conv2d_21[0][0]                  \n",
      "__________________________________________________________________________________________________\n",
      "concatenate_7 (Concatenate)     (None, 3, 3, 128)    0           leaky_re_lu_20[0][0]             \n",
      "                                                                 leaky_re_lu_21[0][0]             \n",
      "__________________________________________________________________________________________________\n",
      "conv2d_22 (Conv2D)              (None, 1, 1, 64)     73792       concatenate_7[0][0]              \n",
      "__________________________________________________________________________________________________\n",
      "leaky_re_lu_22 (LeakyReLU)      (None, 1, 1, 64)     0           conv2d_22[0][0]                  \n",
      "__________________________________________________________________________________________________\n",
      "flatten_1 (Flatten)             (None, 64)           0           leaky_re_lu_22[0][0]             \n",
      "__________________________________________________________________________________________________\n",
      "dense_1 (Dense)                 (None, 512)          33280       flatten_1[0][0]                  \n",
      "__________________________________________________________________________________________________\n",
      "leaky_re_lu_23 (LeakyReLU)      (None, 512)          0           dense_1[0][0]                    \n",
      "__________________________________________________________________________________________________\n",
      "dropout_1 (Dropout)             (None, 512)          0           leaky_re_lu_23[0][0]             \n",
      "__________________________________________________________________________________________________\n",
      "dense_2 (Dense)                 (None, 4251)         2180763     dropout_1[0][0]                  \n",
      "==================================================================================================\n",
      "Total params: 3,055,883\n",
      "Trainable params: 3,055,883\n",
      "Non-trainable params: 0\n",
      "__________________________________________________________________________________________________\n"
     ]
    }
   ],
   "source": [
    "def fire_incept(x, fire=16, intercept=64):\n",
    "    x = Conv2D(fire, (5,5), strides=(2,2))(x)\n",
    "    x = LeakyReLU(alpha=0.15)(x)\n",
    "    \n",
    "    left = Conv2D(intercept, (3,3), padding='same')(x)\n",
    "    left = LeakyReLU(alpha=0.15)(left)\n",
    "    \n",
    "    right = Conv2D(intercept, (5,5), padding='same')(x)\n",
    "    right = LeakyReLU(alpha=0.15)(right)\n",
    "    \n",
    "    x = concatenate([left, right], axis=3)\n",
    "    return x\n",
    "\n",
    "def fire_squeeze(x, fire=16, intercept=64):\n",
    "    x = Conv2D(fire, (1,1))(x)\n",
    "    x = LeakyReLU(alpha=0.15)(x)\n",
    "    \n",
    "    left = Conv2D(intercept, (1,1))(x)\n",
    "    left = LeakyReLU(alpha=0.15)(left)\n",
    "    \n",
    "    right = Conv2D(intercept, (3,3), padding='same')(x)\n",
    "    right = LeakyReLU(alpha=0.15)(right)\n",
    "    \n",
    "    x = concatenate([left, right], axis=3)\n",
    "    return x\n",
    "\n",
    "image_input=Input(shape=input_shape)\n",
    "\n",
    "x = fire_incept((image_input), fire=16, intercept=16)\n",
    "\n",
    "x = fire_incept(x, fire=32, intercept=32)\n",
    "x = fire_squeeze(x, fire=32, intercept=32)\n",
    "\n",
    "x = fire_incept(x, fire=64, intercept=64)\n",
    "x = fire_squeeze(x, fire=64, intercept=64)\n",
    "\n",
    "x = fire_incept(x, fire=64, intercept=64)\n",
    "x = fire_squeeze(x, fire=64, intercept=64)\n",
    "\n",
    "x = Conv2D(64, (3,3))(x)\n",
    "x = LeakyReLU(alpha=0.1)(x)\n",
    "\n",
    "x = Flatten()(x)\n",
    "\n",
    "x = Dense(512)(x)\n",
    "x = LeakyReLU(alpha=0.1)(x)\n",
    "x = Dropout(0.1)(x)\n",
    "\n",
    "out = Dense(len(SPECIES), activation='softmax')(x)\n",
    "\n",
    "model_new = Model(image_input, out)\n",
    "model_new.summary()"
   ]
  },
  {
   "cell_type": "code",
   "execution_count": 14,
   "metadata": {
    "collapsed": true
   },
   "outputs": [],
   "source": [
    "model_new.compile(optimizer = Adam(lr=.00025) ,\\\n",
    "                  loss = 'categorical_crossentropy',\\\n",
    "                  metrics=['accuracy'])"
   ]
  },
  {
   "cell_type": "code",
   "execution_count": 15,
   "metadata": {
    "collapsed": true
   },
   "outputs": [],
   "source": [
    "learning_rate_reduction = ReduceLROnPlateau(monitor='val_acc',\\\n",
    "                patience=3, verbose=1, factor=0.5, min_lr=0.00001)"
   ]
  },
  {
   "cell_type": "code",
   "execution_count": 16,
   "metadata": {
    "collapsed": true
   },
   "outputs": [],
   "source": [
    "datagen = ImageDataGenerator(rotation_range=40, zoom_range = 0.2, \\\n",
    "                    width_shift_range=0.2, height_shift_range=0.2,\\\n",
    "                             horizontal_flip=True, vertical_flip=True)\n",
    "datagen.fit(x_train)"
   ]
  },
  {
   "cell_type": "code",
   "execution_count": 19,
   "metadata": {
    "collapsed": true
   },
   "outputs": [],
   "source": [
    "#model_new.load_weights('model_weights_2.h5f')"
   ]
  },
  {
   "cell_type": "code",
   "execution_count": 17,
   "metadata": {
    "collapsed": true
   },
   "outputs": [],
   "source": [
    "batch_size = 32\n",
    "epochs = 1"
   ]
  },
  {
   "cell_type": "code",
   "execution_count": 18,
   "metadata": {},
   "outputs": [
    {
     "name": "stdout",
     "output_type": "stream",
     "text": [
      "Epoch 1/1\n",
      "277/277 [==============================] - 198s 714ms/step - loss: 8.1671 - acc: 0.0817 - val_loss: 8.2180 - val_acc: 0.0721\n"
     ]
    }
   ],
   "source": [
    "#Training\n",
    "history=  model_new.\\\n",
    "fit_generator(datagen.flow(x_train,y_train, batch_size=batch_size), \\\n",
    "              epochs = epochs,validation_data = (x_val,y_val), \\\n",
    "              verbose = 1, steps_per_epoch=x_train.shape[0]\\\n",
    "              // batch_size, callbacks=[learning_rate_reduction])"
   ]
  },
  {
   "cell_type": "code",
   "execution_count": 22,
   "metadata": {
    "collapsed": true
   },
   "outputs": [],
   "source": [
    "#model_new.save_weights('model_weights_2.h5f', overwrite=True)"
   ]
  },
  {
   "cell_type": "code",
   "execution_count": 23,
   "metadata": {},
   "outputs": [
    {
     "data": {
      "text/plain": [
       "\"%%time\\n\\ntest = []\\nfor file in os.listdir(os.path.join(test_dir)):\\n    test.append(['test/{}'.format(file)])\\n\\ntest = pd.DataFrame(test, columns=['file'])\\nprint(test.head(5))\\n\\n\\nx_test = []\\n\\nfor i in range(len(test)):\\n    img = cv2.imread(test['file'][i])\\n    img = cv2.resize(img,dsize=(256,256))\\n    img_stack = segment_plant(img)\\n    img_stack = sharpen_image(img_stack)\\n    img_stack = cv2.cvtColor( img_stack, cv2.COLOR_RGB2GRAY )\\n    img_stack = np.reshape(img_stack,(256,256,1))\\n    x_test.append(np.concatenate((np.array(img),np.array(img_stack)),axis=2))\\n\\nx_test = np.array(x_test)\""
      ]
     },
     "execution_count": 23,
     "metadata": {},
     "output_type": "execute_result"
    }
   ],
   "source": [
    "'''%%time\n",
    "\n",
    "test = []\n",
    "for file in os.listdir(os.path.join(test_dir)):\n",
    "    test.append(['test/{}'.format(file)])\n",
    "\n",
    "test = pd.DataFrame(test, columns=['file'])\n",
    "print(test.head(5))\n",
    "\n",
    "\n",
    "x_test = []\n",
    "\n",
    "for i in range(len(test)):\n",
    "    img = cv2.imread(test['file'][i])\n",
    "    img = cv2.resize(img,dsize=(256,256))\n",
    "    img_stack = segment_plant(img)\n",
    "    img_stack = sharpen_image(img_stack)\n",
    "    img_stack = cv2.cvtColor( img_stack, cv2.COLOR_RGB2GRAY )\n",
    "    img_stack = np.reshape(img_stack,(256,256,1))\n",
    "    x_test.append(np.concatenate((np.array(img),np.array(img_stack)),axis=2))\n",
    "\n",
    "x_test = np.array(x_test)'''"
   ]
  },
  {
   "cell_type": "code",
   "execution_count": 24,
   "metadata": {},
   "outputs": [
    {
     "data": {
      "text/plain": [
       "\"randm = np.random.randint(0,len(test))\\n\\nimg = cv2.imread(test['file'][randm])\\nplt.imshow(img)\\nplt.show()\\n\\nimg_processed = x_test[randm]\\nplt.imshow(img_processed)\\nplt.show()\""
      ]
     },
     "execution_count": 24,
     "metadata": {},
     "output_type": "execute_result"
    }
   ],
   "source": [
    "'''randm = np.random.randint(0,len(test))\n",
    "\n",
    "img = cv2.imread(test['file'][randm])\n",
    "plt.imshow(img)\n",
    "plt.show()\n",
    "\n",
    "img_processed = x_test[randm]\n",
    "plt.imshow(img_processed)\n",
    "plt.show()'''"
   ]
  },
  {
   "cell_type": "code",
   "execution_count": 19,
   "metadata": {},
   "outputs": [
    {
     "name": "stdout",
     "output_type": "stream",
     "text": [
      "985/985 [==============================] - 6s 6ms/step\n",
      "Accuracy on Validation Set 0.07208121822872743\n"
     ]
    }
   ],
   "source": [
    "score = model_new.evaluate(x_val,y_val)\n",
    "print('Accuracy on Validation Set',score[1])"
   ]
  },
  {
   "cell_type": "code",
   "execution_count": 20,
   "metadata": {},
   "outputs": [
    {
     "name": "stdout",
     "output_type": "stream",
     "text": [
      "(8865, 512)\n",
      "(985, 512)\n"
     ]
    }
   ],
   "source": [
    "model_feat = Model(inputs=model_new.input, outputs=model_new.get_layer\\\n",
    "                  ('dense_1').output)\n",
    "\n",
    "feat_train = model_feat.predict(x_train)\n",
    "print(feat_train.shape)\n",
    "\n",
    "feat_val = model_feat.predict(x_val)\n",
    "print(feat_val.shape)\n",
    "\n",
    "#feat_test = model_feat.predict(x_test)\n",
    "#print(feat_test.shape)"
   ]
  },
  {
   "cell_type": "code",
   "execution_count": 21,
   "metadata": {},
   "outputs": [
    {
     "name": "stdout",
     "output_type": "stream",
     "text": [
      "Done\n"
     ]
    }
   ],
   "source": [
    "svm = SVC(kernel='rbf')\n",
    "\n",
    "svm.fit(feat_train,np.argmax(y_train, axis=1))\n",
    "\n",
    "print(\"Done\")\n"
   ]
  },
  {
   "cell_type": "code",
   "execution_count": null,
   "metadata": {
    "collapsed": true
   },
   "outputs": [],
   "source": [
    "svm.score(feat_train,np.argmax(y_train,axis=1))"
   ]
  },
  {
   "cell_type": "code",
   "execution_count": 22,
   "metadata": {},
   "outputs": [
    {
     "data": {
      "text/plain": [
       "0.07208121827411168"
      ]
     },
     "execution_count": 22,
     "metadata": {},
     "output_type": "execute_result"
    }
   ],
   "source": [
    "svm.score(feat_val, np.argmax(y_val,axis=1))"
   ]
  }
 ],
 "metadata": {
  "kernelspec": {
   "display_name": "Python 3",
   "language": "python",
   "name": "python3"
  },
  "language_info": {
   "codemirror_mode": {
    "name": "ipython",
    "version": 3
   },
   "file_extension": ".py",
   "mimetype": "text/x-python",
   "name": "python",
   "nbconvert_exporter": "python",
   "pygments_lexer": "ipython3",
   "version": "3.6.3"
  }
 },
 "nbformat": 4,
 "nbformat_minor": 2
}
